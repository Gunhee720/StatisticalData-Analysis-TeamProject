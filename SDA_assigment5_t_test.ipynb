{
 "cells": [
  {
   "cell_type": "code",
   "execution_count": null,
   "id": "93963a11",
   "metadata": {},
   "outputs": [],
   "source": [
    "#2024년 11월 30일\n",
    "#commit 한 사람 :강건희\n",
    "#주 선호 발에 따른 선수의 능력치가 같은지 다른지\n",
    "#데이터 확인, 데이터 plot 확인, t-tset를 위해 데이터가 정규성을 가지는지, 분산이 같은지 확인 , t-test로 결론 도출 코드 작성\n",
    "#개선해야할 부분: 샘플 갯수가 커서 정규성을 제대로 파악하기 어려움 (ex 샤피로 검정) 따라서 두 그룹이 정말 정규분포를 따르는지 근거가 좀 더 필요\n"
   ]
  },
  {
   "cell_type": "code",
   "execution_count": 65,
   "id": "fd54577d",
   "metadata": {
    "ExecuteTime": {
     "end_time": "2024-11-30T10:15:56.366202Z",
     "start_time": "2024-11-30T10:15:56.307286Z"
    }
   },
   "outputs": [],
   "source": [
    "import pandas as pd\n",
    "import matplotlib.pyplot as plt\n",
    "import seaborn as sns\n",
    "df_train = pd.read_csv(\"FIFA_train.csv\")\n",
    "df_test = pd.read_csv(\"FIFA_test.csv\")\n",
    "\n",
    "# 데이터 합치기\n",
    "df = pd.concat([df_train, df_test], ignore_index=True)"
   ]
  },
  {
   "cell_type": "code",
   "execution_count": 66,
   "id": "de68d859",
   "metadata": {
    "ExecuteTime": {
     "end_time": "2024-11-30T10:15:59.635502Z",
     "start_time": "2024-11-30T10:15:59.618095Z"
    }
   },
   "outputs": [
    {
     "data": {
      "text/html": [
       "<div>\n",
       "<style scoped>\n",
       "    .dataframe tbody tr th:only-of-type {\n",
       "        vertical-align: middle;\n",
       "    }\n",
       "\n",
       "    .dataframe tbody tr th {\n",
       "        vertical-align: top;\n",
       "    }\n",
       "\n",
       "    .dataframe thead th {\n",
       "        text-align: right;\n",
       "    }\n",
       "</style>\n",
       "<table border=\"1\" class=\"dataframe\">\n",
       "  <thead>\n",
       "    <tr style=\"text-align: right;\">\n",
       "      <th></th>\n",
       "      <th>id</th>\n",
       "      <th>name</th>\n",
       "      <th>age</th>\n",
       "      <th>continent</th>\n",
       "      <th>contract_until</th>\n",
       "      <th>position</th>\n",
       "      <th>prefer_foot</th>\n",
       "      <th>reputation</th>\n",
       "      <th>stat_overall</th>\n",
       "      <th>stat_potential</th>\n",
       "      <th>stat_skill_moves</th>\n",
       "      <th>value</th>\n",
       "    </tr>\n",
       "  </thead>\n",
       "  <tbody>\n",
       "    <tr>\n",
       "      <th>0</th>\n",
       "      <td>0</td>\n",
       "      <td>L. Messi</td>\n",
       "      <td>31</td>\n",
       "      <td>south america</td>\n",
       "      <td>2021</td>\n",
       "      <td>ST</td>\n",
       "      <td>left</td>\n",
       "      <td>5.0</td>\n",
       "      <td>94</td>\n",
       "      <td>94</td>\n",
       "      <td>4.0</td>\n",
       "      <td>110500000.0</td>\n",
       "    </tr>\n",
       "    <tr>\n",
       "      <th>1</th>\n",
       "      <td>3</td>\n",
       "      <td>De Gea</td>\n",
       "      <td>27</td>\n",
       "      <td>europe</td>\n",
       "      <td>2020</td>\n",
       "      <td>GK</td>\n",
       "      <td>right</td>\n",
       "      <td>4.0</td>\n",
       "      <td>91</td>\n",
       "      <td>93</td>\n",
       "      <td>1.0</td>\n",
       "      <td>72000000.0</td>\n",
       "    </tr>\n",
       "    <tr>\n",
       "      <th>2</th>\n",
       "      <td>7</td>\n",
       "      <td>L. Suárez</td>\n",
       "      <td>31</td>\n",
       "      <td>south america</td>\n",
       "      <td>2021</td>\n",
       "      <td>ST</td>\n",
       "      <td>right</td>\n",
       "      <td>5.0</td>\n",
       "      <td>91</td>\n",
       "      <td>91</td>\n",
       "      <td>3.0</td>\n",
       "      <td>80000000.0</td>\n",
       "    </tr>\n",
       "    <tr>\n",
       "      <th>3</th>\n",
       "      <td>8</td>\n",
       "      <td>Sergio Ramos</td>\n",
       "      <td>32</td>\n",
       "      <td>europe</td>\n",
       "      <td>2020</td>\n",
       "      <td>DF</td>\n",
       "      <td>right</td>\n",
       "      <td>4.0</td>\n",
       "      <td>91</td>\n",
       "      <td>91</td>\n",
       "      <td>3.0</td>\n",
       "      <td>51000000.0</td>\n",
       "    </tr>\n",
       "    <tr>\n",
       "      <th>4</th>\n",
       "      <td>9</td>\n",
       "      <td>J. Oblak</td>\n",
       "      <td>25</td>\n",
       "      <td>europe</td>\n",
       "      <td>2021</td>\n",
       "      <td>GK</td>\n",
       "      <td>right</td>\n",
       "      <td>3.0</td>\n",
       "      <td>90</td>\n",
       "      <td>93</td>\n",
       "      <td>1.0</td>\n",
       "      <td>68000000.0</td>\n",
       "    </tr>\n",
       "  </tbody>\n",
       "</table>\n",
       "</div>"
      ],
      "text/plain": [
       "   id          name  age      continent contract_until position prefer_foot  \\\n",
       "0   0      L. Messi   31  south america           2021       ST        left   \n",
       "1   3        De Gea   27         europe           2020       GK       right   \n",
       "2   7     L. Suárez   31  south america           2021       ST       right   \n",
       "3   8  Sergio Ramos   32         europe           2020       DF       right   \n",
       "4   9      J. Oblak   25         europe           2021       GK       right   \n",
       "\n",
       "   reputation  stat_overall  stat_potential  stat_skill_moves        value  \n",
       "0         5.0            94              94               4.0  110500000.0  \n",
       "1         4.0            91              93               1.0   72000000.0  \n",
       "2         5.0            91              91               3.0   80000000.0  \n",
       "3         4.0            91              91               3.0   51000000.0  \n",
       "4         3.0            90              93               1.0   68000000.0  "
      ]
     },
     "execution_count": 66,
     "metadata": {},
     "output_type": "execute_result"
    }
   ],
   "source": [
    "df.head()"
   ]
  },
  {
   "cell_type": "code",
   "execution_count": 67,
   "id": "fbbe69bf",
   "metadata": {
    "ExecuteTime": {
     "end_time": "2024-11-30T10:16:01.128864Z",
     "start_time": "2024-11-30T10:16:01.111965Z"
    }
   },
   "outputs": [],
   "source": [
    "#plt그리기 위해 나눠 봤습니다\n",
    "left_foot = df[df[\"prefer_foot\"] == \"left\"]\n",
    "right_foot = df[df[\"prefer_foot\"] == \"right\"]"
   ]
  },
  {
   "cell_type": "code",
   "execution_count": 68,
   "id": "6a952162",
   "metadata": {
    "ExecuteTime": {
     "end_time": "2024-11-30T10:16:02.044891Z",
     "start_time": "2024-11-30T10:16:02.025305Z"
    }
   },
   "outputs": [
    {
     "name": "stdout",
     "output_type": "stream",
     "text": [
      "12760\n",
      "3008\n",
      "9752\n"
     ]
    }
   ],
   "source": [
    "#전체 행 갯수는\n",
    "total_rows = print(len(df)) # 전체\n",
    "left_foot_rows = print(len(left_foot))  #왼발 그룹!\n",
    "right_foot_rows = print(len(right_foot))  #오른발 그룹!"
   ]
  },
  {
   "cell_type": "code",
   "execution_count": null,
   "id": "17f3f36b",
   "metadata": {},
   "outputs": [],
   "source": [
    "# 1. 데이터 요약--------------------------------------------------------------"
   ]
  },
  {
   "cell_type": "code",
   "execution_count": null,
   "id": "2d318ad8",
   "metadata": {},
   "outputs": [],
   "source": [
    "print(\"데이터 요약 정보:\")\n",
    "print(df.info())\n",
    "\n",
    "print(\"\\n기술 통계 (수치형 변수):\")\n",
    "print(df.describe())"
   ]
  },
  {
   "cell_type": "code",
   "execution_count": null,
   "id": "fac14690",
   "metadata": {},
   "outputs": [],
   "source": [
    "#2결측치 확인-----------------------------------------------------------------------"
   ]
  },
  {
   "cell_type": "code",
   "execution_count": null,
   "id": "d33e3ff1",
   "metadata": {},
   "outputs": [],
   "source": [
    "print(\"\\n결측치 확인:\")\n",
    "missing_data = df.isnull().sum()\n",
    "print(missing_data)"
   ]
  },
  {
   "cell_type": "code",
   "execution_count": null,
   "id": "bb3d0249",
   "metadata": {},
   "outputs": [],
   "source": [
    "#3두 그룹 boxplot-------------------------------------------------------------------"
   ]
  },
  {
   "cell_type": "code",
   "execution_count": 69,
   "id": "130fed70",
   "metadata": {
    "ExecuteTime": {
     "end_time": "2024-11-30T10:16:08.730183Z",
     "start_time": "2024-11-30T10:16:08.625311Z"
    },
    "scrolled": true
   },
   "outputs": [
    {
     "data": {
      "image/png": "[encoded data removed]",
      "text/plain": [
       "<Figure size 800x600 with 1 Axes>"
      ]
     },
     "metadata": {},
     "output_type": "display_data"
    }
   ],
   "source": [
    "plt.figure(figsize=(8, 6))\n",
    "plt.rc('font', family='NanumGothic')\n",
    "sns.boxplot(data=df, x=\"prefer_foot\", y=\"stat_overall\")\n",
    "plt.title(\"Player Value by Preferred Foot\", fontsize=14)\n",
    "plt.xlabel(\"왼발    VS   오른발\", fontsize=12)\n",
    "plt.ylabel(\"능력치\", fontsize=12)\n",
    "plt.grid(axis=\"y\", linestyle=\"--\", alpha=0.7)\n",
    "plt.show()"
   ]
  },
  {
   "cell_type": "code",
   "execution_count": null,
   "id": "93e6e2a1",
   "metadata": {},
   "outputs": [],
   "source": [
    "#아웃라이어를 제거 하지않은이유 - 데이터를 보니 능력치에 범위는 0 ~ 100 이다. 우리가 ranksum test를 쓰는 경우는 보통 아웃라이어가 \n",
    "# 정상적으로 높은 값을 가지고 있어 평균이 망가지는 경우 때문에 사용하는데 0~100으로 제한되어있기때문에 제거 하지 않아도 된다고 판단했다."
   ]
  },
  {
   "cell_type": "code",
   "execution_count": null,
   "id": "0c84f86c",
   "metadata": {},
   "outputs": [],
   "source": [
    "#4 히스토그램----------------------------------------------------------------------"
   ]
  },
  {
   "cell_type": "code",
   "execution_count": null,
   "id": "6f9aede4",
   "metadata": {},
   "outputs": [],
   "source": [
    "#----------------------------------------------------------------------------------"
   ]
  },
  {
   "cell_type": "code",
   "execution_count": 225,
   "id": "a422064c",
   "metadata": {
    "ExecuteTime": {
     "end_time": "2024-11-30T12:23:18.061331Z",
     "start_time": "2024-11-30T12:23:17.824175Z"
    }
   },
   "outputs": [
    {
     "data": {
      "text/plain": [
       "<AxesSubplot:ylabel='Count'>"
      ]
     },
     "execution_count": 225,
     "metadata": {},
     "output_type": "execute_result"
    },
    {
     "data": {
      "image/png": "[encoded data removed]",
      "text/plain": [
       "<Figure size 640x480 with 1 Axes>"
      ]
     },
     "metadata": {},
     "output_type": "display_data"
    }
   ],
   "source": [
    "# 왼발 그룹 히스토그램\n",
    "sns.histplot(left_footed_values, bins=10, color=\"blue\", label=\"Left Foot\", alpha=0.6)"
   ]
  },
  {
   "cell_type": "code",
   "execution_count": 165,
   "id": "f389225b",
   "metadata": {
    "ExecuteTime": {
     "end_time": "2024-11-30T11:56:43.016505Z",
     "start_time": "2024-11-30T11:56:42.838609Z"
    }
   },
   "outputs": [
    {
     "data": {
      "text/plain": [
       "<AxesSubplot:xlabel='stat_overall', ylabel='Count'>"
      ]
     },
     "execution_count": 165,
     "metadata": {},
     "output_type": "execute_result"
    },
    {
     "data": {
      "image/png": "[encoded data removed]",
      "text/plain": [
       "<Figure size 640x480 with 1 Axes>"
      ]
     },
     "metadata": {},
     "output_type": "display_data"
    }
   ],
   "source": [
    "# 오른발 그룹 히스토그램\n",
    "sns.histplot(right_foot[\"stat_overall\"], bins=10, color=\"red\", label=\"Right Foot\", alpha=0.6)"
   ]
  },
  {
   "cell_type": "code",
   "execution_count": null,
   "id": "3a4929f0",
   "metadata": {},
   "outputs": [],
   "source": [
    "#히스토그램은 보아 두 그룹이 정규분포를 따르고 있다고 생각 (여기는 그림을 통한 추측입니다.)"
   ]
  },
  {
   "cell_type": "code",
   "execution_count": null,
   "id": "f583ed21",
   "metadata": {},
   "outputs": [],
   "source": [
    "#5 shapiro 와 kstest를 통한 두 그룹의 정규성 확인------------------------------------"
   ]
  },
  {
   "cell_type": "code",
   "execution_count": null,
   "id": "77200e65",
   "metadata": {},
   "outputs": [],
   "source": [
    "#----------------------------------------------------------------------------------"
   ]
  },
  {
   "cell_type": "code",
   "execution_count": 231,
   "id": "8322f430",
   "metadata": {
    "ExecuteTime": {
     "end_time": "2024-11-30T12:32:36.610457Z",
     "start_time": "2024-11-30T12:32:36.578615Z"
    }
   },
   "outputs": [
    {
     "data": {
      "text/plain": [
       "67"
      ]
     },
     "execution_count": 231,
     "metadata": {},
     "output_type": "execute_result"
    }
   ],
   "source": [
    "right_footed_values.mean()"
   ]
  },
  {
   "cell_type": "code",
   "execution_count": 230,
   "id": "51055e0d",
   "metadata": {
    "ExecuteTime": {
     "end_time": "2024-11-30T12:32:23.365822Z",
     "start_time": "2024-11-30T12:32:23.340403Z"
    }
   },
   "outputs": [
    {
     "data": {
      "text/plain": [
       "6.966219181166266"
      ]
     },
     "execution_count": 230,
     "metadata": {},
     "output_type": "execute_result"
    }
   ],
   "source": [
    "right_footed_values.std()"
   ]
  },
  {
   "cell_type": "code",
   "execution_count": 244,
   "id": "a158e894",
   "metadata": {
    "ExecuteTime": {
     "end_time": "2024-11-30T12:36:25.827813Z",
     "start_time": "2024-11-30T12:36:25.782379Z"
    }
   },
   "outputs": [
    {
     "name": "stdout",
     "output_type": "stream",
     "text": [
      "ShapiroResult(statistic=0.9966505169868469, pvalue=4.002372977311708e-14)\n",
      "KstestResult(statistic=0.03656053262838371, pvalue=9.227315419886037e-12)\n"
     ]
    }
   ],
   "source": [
    "#오른발 그룹 정규성 검증\n",
    "from scipy.stats import shapiro\n",
    "from scipy.stats import kstest, norm\n",
    "import statistics\n",
    "# right_footed를 numpy 배열로 변환\n",
    "right_footed_values = right_footed.values\n",
    "\n",
    "\n",
    "print(shapiro(right_footed_values))\n",
    "\n",
    "\n",
    "\n",
    "print(stats.kstest(right_footed_values, \"norm\", args=(np.mean(right_footed_values), np.std(right_footed_values))))"
   ]
  },
  {
   "cell_type": "code",
   "execution_count": null,
   "id": "ff6c8283",
   "metadata": {},
   "outputs": [],
   "source": [
    "# 두 테스트의 p-value가 낮게 나온 이유는 sample의 갯수가 수 천개이기 때문이다. \n",
    "#샘플 크기가 클 때는 일반적인 정규성 검정(Shapiro-Wilk, Kolmogorov-Smirnov, Jarque-Bera 등)이 작은 편차를 유의미하게 검출하여 귀무가설을 기각할 가능성이 커지기 때문에, \n",
    "#샘플 크기의 영향을 덜 받는 방법을 고려해야한다"
   ]
  },
  {
   "cell_type": "code",
   "execution_count": 245,
   "id": "405357b3",
   "metadata": {
    "ExecuteTime": {
     "end_time": "2024-11-30T12:36:37.036758Z",
     "start_time": "2024-11-30T12:36:36.967808Z"
    }
   },
   "outputs": [
    {
     "name": "stdout",
     "output_type": "stream",
     "text": [
      "[94 90 89 ... 50 50 50]\n",
      "ShapiroResult(statistic=0.9950530529022217, pvalue=1.6813226366707568e-08)\n",
      "KstestResult(statistic=0.07099910781930574, pvalue=1.2481177955109903e-13)\n"
     ]
    }
   ],
   "source": [
    "#왼발 그룹 정규성 검증\n",
    "left_footed_values = left_footed.values\n",
    "print(left_footed_values)\n",
    "print(shapiro(left_footed_values))\n",
    "print(kstest(left_footed_values, \"norm\", args=(statistics.mean(left_footed_values), statistics.stdev(left_footed_values))\n",
    "))"
   ]
  },
  {
   "cell_type": "code",
   "execution_count": 136,
   "id": "190ab63b",
   "metadata": {
    "ExecuteTime": {
     "end_time": "2024-11-30T11:38:42.433867Z",
     "start_time": "2024-11-30T11:38:42.400311Z"
    }
   },
   "outputs": [
    {
     "name": "stdout",
     "output_type": "stream",
     "text": [
      "Jarque_beraResult(statistic=5.22200674517046, pvalue=0.0734607982210923)\n"
     ]
    }
   ],
   "source": [
    "from scipy.stats import jarque_bera\n",
    "\n",
    "# Jarque-Bera Test\n",
    "print(jarque_bera(right_footed_values))\n"
   ]
  },
  {
   "cell_type": "code",
   "execution_count": 217,
   "id": "fd4c4a17",
   "metadata": {
    "ExecuteTime": {
     "end_time": "2024-11-30T12:14:52.923868Z",
     "start_time": "2024-11-30T12:14:52.910340Z"
    }
   },
   "outputs": [
    {
     "name": "stdout",
     "output_type": "stream",
     "text": [
      "Jarque_beraResult(statistic=21.40706492600934, pvalue=2.2465439249774732e-05)\n"
     ]
    }
   ],
   "source": [
    "from scipy.stats import jarque_bera\n",
    "\n",
    "# Jarque-Bera Test\n",
    "print(jarque_bera(left_footed_values))\n"
   ]
  },
  {
   "cell_type": "code",
   "execution_count": 246,
   "id": "ee9f69d5",
   "metadata": {
    "ExecuteTime": {
     "end_time": "2024-11-30T12:38:21.717054Z",
     "start_time": "2024-11-30T12:38:21.694211Z"
    }
   },
   "outputs": [
    {
     "name": "stdout",
     "output_type": "stream",
     "text": [
      "Statistic: 4.700853917427594\n",
      "Critical Values: [0.575 0.655 0.786 0.917 1.091]\n",
      "Significance Levels: [15.  10.   5.   2.5  1. ]\n",
      "Significance Level 15.0%: Critical Value 0.575\n",
      "Significance Level 10.0%: Critical Value 0.655\n",
      "Significance Level 5.0%: Critical Value 0.786\n",
      "Significance Level 2.5%: Critical Value 0.917\n",
      "Significance Level 1.0%: Critical Value 1.091\n",
      "데이터가 정규분포를 따르지 않습니다.\n"
     ]
    }
   ],
   "source": [
    "from scipy.stats import anderson\n",
    "result = anderson(left_footed_values, dist=\"norm\")\n",
    "print(\"Statistic:\", result.statistic)\n",
    "print(\"Critical Values:\", result.critical_values)\n",
    "print(\"Significance Levels:\", result.significance_level)\n",
    "\n",
    "# 결과 해석\n",
    "for sl, cv in zip(result.significance_level, result.critical_values):\n",
    "    print(f\"Significance Level {sl}%: Critical Value {cv}\")\n",
    "if result.statistic > result.critical_values[2]:  # 보통 5% 유의 수준 사용\n",
    "    print(\"데이터가 정규분포를 따르지 않습니다.\")\n",
    "else:\n",
    "    print(\"데이터가 정규분포를 따릅니다.\")"
   ]
  },
  {
   "cell_type": "code",
   "execution_count": null,
   "id": "f563601f",
   "metadata": {},
   "outputs": [],
   "source": [
    "#6 qqplot------------------------------------------------------------------------"
   ]
  },
  {
   "cell_type": "code",
   "execution_count": null,
   "id": "bc1a74db",
   "metadata": {},
   "outputs": [],
   "source": [
    "#----------------------------------------------------------------------------------"
   ]
  },
  {
   "cell_type": "code",
   "execution_count": 247,
   "id": "c12326b1",
   "metadata": {
    "ExecuteTime": {
     "end_time": "2024-11-30T12:39:34.469337Z",
     "start_time": "2024-11-30T12:39:34.178644Z"
    }
   },
   "outputs": [
    {
     "data": {
      "image/png": "[encoded data removed]",
      "text/plain": [
       "<Figure size 640x480 with 1 Axes>"
      ]
     },
     "metadata": {},
     "output_type": "display_data"
    }
   ],
   "source": [
    "import scipy.stats as stats\n",
    "import matplotlib.pyplot as plt\n",
    "import numpy as np\n",
    "\n",
    "# 데이터의 평균과 표준편차 계산\n",
    "mean = np.mean(right_footed_values)\n",
    "std = np.std(right_footed_values)\n",
    "\n",
    "# Q-Q Plot 생성\n",
    "stats.probplot(right_footed_values, dist=\"norm\", sparams=(mean, std), plot=plt)\n",
    "plt.title(\"Q-Q Plot (Adjusted for Data Mean and Std)\")\n",
    "plt.show()\n"
   ]
  },
  {
   "cell_type": "code",
   "execution_count": 160,
   "id": "39af9d03",
   "metadata": {
    "ExecuteTime": {
     "end_time": "2024-11-30T11:46:27.535356Z",
     "start_time": "2024-11-30T11:46:27.333306Z"
    }
   },
   "outputs": [
    {
     "data": {
      "image/png": "[encoded data removed]",
      "text/plain": [
       "<Figure size 640x480 with 1 Axes>"
      ]
     },
     "metadata": {},
     "output_type": "display_data"
    }
   ],
   "source": [
    "import scipy.stats as stats\n",
    "import matplotlib.pyplot as plt\n",
    "\n",
    "stats.probplot(left_footed_values, dist=\"norm\", plot=plt)\n",
    "plt.title(\"Q-Q Plot\")\n",
    "plt.show()\n"
   ]
  },
  {
   "cell_type": "code",
   "execution_count": null,
   "id": "6a3f7866",
   "metadata": {},
   "outputs": [],
   "source": [
    "#qqplot을 보아 정규 분포를 따른다고 생각"
   ]
  },
  {
   "cell_type": "code",
   "execution_count": 117,
   "id": "58211886",
   "metadata": {
    "ExecuteTime": {
     "end_time": "2024-11-30T11:06:48.461130Z",
     "start_time": "2024-11-30T11:06:48.312635Z"
    }
   },
   "outputs": [
    {
     "data": {
      "image/png": "[encoded data removed]",
      "text/plain": [
       "<Figure size 640x480 with 1 Axes>"
      ]
     },
     "metadata": {},
     "output_type": "display_data"
    }
   ],
   "source": [
    "#왼발그룹 qqplot\n",
    "import statsmodels.api as sm\n",
    "sm.qqplot(left_footed_values, line='45')\n",
    "plt.show()"
   ]
  },
  {
   "cell_type": "code",
   "execution_count": 116,
   "id": "64ce3eff",
   "metadata": {
    "ExecuteTime": {
     "end_time": "2024-11-30T11:06:46.468523Z",
     "start_time": "2024-11-30T11:06:46.259831Z"
    }
   },
   "outputs": [
    {
     "data": {
      "image/png": "[encoded data removed]",
      "text/plain": [
       "<Figure size 640x480 with 1 Axes>"
      ]
     },
     "metadata": {},
     "output_type": "display_data"
    }
   ],
   "source": [
    "##오른발그룹 qqplot\n",
    "import statsmodels.api as sm\n",
    "sm.qqplot(right_footed_values, line='45')\n",
    "plt.show()"
   ]
  },
  {
   "cell_type": "code",
   "execution_count": null,
   "id": "f9ddd679",
   "metadata": {},
   "outputs": [],
   "source": [
    "#위 qqplot은 분위수에 대한 plot이기때문에 무시한다고 판단"
   ]
  },
  {
   "cell_type": "code",
   "execution_count": 119,
   "id": "36d77d32",
   "metadata": {
    "ExecuteTime": {
     "end_time": "2024-11-30T11:07:13.495798Z",
     "start_time": "2024-11-30T11:07:13.480801Z"
    }
   },
   "outputs": [
    {
     "name": "stdout",
     "output_type": "stream",
     "text": [
      "첨도(Kurtosis): 0.2917\n",
      "왜도(Skewness): 0.1464\n"
     ]
    }
   ],
   "source": [
    "from scipy.stats import kurtosis, skew\n",
    "#ㅊjaeh\n",
    "kurt = kurtosis(left_footed_values)\n",
    "print(f\"첨도(Kurtosis): {kurt:.4f}\")\n",
    "\n",
    "# 왜도\n",
    "skewness = skew(left_footed_values)\n",
    "print(f\"왜도(Skewness): {skewness:.4f}\")"
   ]
  },
  {
   "cell_type": "code",
   "execution_count": 118,
   "id": "140b0b0c",
   "metadata": {
    "ExecuteTime": {
     "end_time": "2024-11-30T11:07:11.842701Z",
     "start_time": "2024-11-30T11:07:11.826804Z"
    }
   },
   "outputs": [
    {
     "name": "stdout",
     "output_type": "stream",
     "text": [
      "첨도(Kurtosis): 0.0678\n",
      "왜도(Skewness): 0.0454\n"
     ]
    }
   ],
   "source": [
    "from scipy.stats import kurtosis, skew\n",
    "#첨도\n",
    "kurt = kurtosis(right_footed_values)\n",
    "print(f\"첨도(Kurtosis): {kurt:.4f}\")\n",
    "\n",
    "# 왜도\n",
    "skewness = skew(right_footed_values)\n",
    "print(f\"왜도(Skewness): {skewness:.4f}\")"
   ]
  },
  {
   "cell_type": "code",
   "execution_count": null,
   "id": "33ff2202",
   "metadata": {},
   "outputs": [],
   "source": [
    "# 두 그룹의 왜도 및 첨도가 0에 가까우므로 정규분포를 따른다고 생각"
   ]
  },
  {
   "cell_type": "code",
   "execution_count": null,
   "id": "84e30648",
   "metadata": {},
   "outputs": [],
   "source": [
    "#분산이 같은지 검정-------------------------------------------------------"
   ]
  },
  {
   "cell_type": "code",
   "execution_count": null,
   "id": "5cee8ca1",
   "metadata": {},
   "outputs": [],
   "source": [
    "#------------------------------------------------------------------"
   ]
  },
  {
   "cell_type": "code",
   "execution_count": 216,
   "id": "1b217474",
   "metadata": {
    "ExecuteTime": {
     "end_time": "2024-11-30T12:10:42.354614Z",
     "start_time": "2024-11-30T12:10:42.336717Z"
    }
   },
   "outputs": [
    {
     "name": "stdout",
     "output_type": "stream",
     "text": [
      "BartlettResult(statistic=18.451384048835767, pvalue=1.7429420214789294e-05)\n"
     ]
    }
   ],
   "source": [
    "from scipy.stats import bartlett\n",
    "print(bartlett(left_footed_values, right_footed_values))"
   ]
  },
  {
   "cell_type": "code",
   "execution_count": 101,
   "id": "aacb0d56",
   "metadata": {
    "ExecuteTime": {
     "end_time": "2024-11-30T10:25:26.245503Z",
     "start_time": "2024-11-30T10:25:26.230999Z"
    }
   },
   "outputs": [
    {
     "name": "stdout",
     "output_type": "stream",
     "text": [
      "LeveneResult(statistic=17.62530495241372, pvalue=2.7080947107176833e-05)\n"
     ]
    }
   ],
   "source": [
    "from scipy.stats import levene\n",
    "print(levene(left_footed_values, right_footed_values))"
   ]
  },
  {
   "cell_type": "code",
   "execution_count": 249,
   "id": "c0b8d80b",
   "metadata": {
    "ExecuteTime": {
     "end_time": "2024-11-30T13:21:52.231874Z",
     "start_time": "2024-11-30T13:21:52.178550Z"
    }
   },
   "outputs": [
    {
     "name": "stdout",
     "output_type": "stream",
     "text": [
      "FlignerResult(statistic=17.33479956763485, pvalue=3.1339492410573334e-05)\n"
     ]
    }
   ],
   "source": [
    "from scipy.stats import fligner\n",
    "print(fligner(left_footed_values, right_footed_values))"
   ]
  },
  {
   "cell_type": "code",
   "execution_count": null,
   "id": "585dae62",
   "metadata": {},
   "outputs": [],
   "source": [
    "#두 그룹의 분산은 다르다고 판단"
   ]
  },
  {
   "cell_type": "code",
   "execution_count": null,
   "id": "85ec38bd",
   "metadata": {},
   "outputs": [],
   "source": [
    "#t-test-------------------------------------------------------"
   ]
  },
  {
   "cell_type": "code",
   "execution_count": 109,
   "id": "33ffa650",
   "metadata": {
    "ExecuteTime": {
     "end_time": "2024-11-30T10:45:22.776883Z",
     "start_time": "2024-11-30T10:45:22.761838Z"
    }
   },
   "outputs": [
    {
     "name": "stdout",
     "output_type": "stream",
     "text": [
      "Ttest_indResult(statistic=4.439254185771714, pvalue=4.605442019210169e-06)\n"
     ]
    }
   ],
   "source": [
    "import scipy.stats as stats\n",
    "\n",
    "\n",
    "print(stats.ttest_ind(left_footed_values, right_footed_values,equal_var=False, alternative='greater'))"
   ]
  },
  {
   "cell_type": "code",
   "execution_count": null,
   "id": "e9cff549",
   "metadata": {},
   "outputs": [],
   "source": [
    "#결론 왼발선수들이 능력치가 크다는 귀무기설을 기각한다- 왼발 선수 능력치가 작다"
   ]
  },
  {
   "cell_type": "code",
   "execution_count": 110,
   "id": "772a2c81",
   "metadata": {
    "ExecuteTime": {
     "end_time": "2024-11-30T10:45:38.851784Z",
     "start_time": "2024-11-30T10:45:38.836793Z"
    }
   },
   "outputs": [
    {
     "name": "stdout",
     "output_type": "stream",
     "text": [
      "Ttest_indResult(statistic=4.439254185771714, pvalue=0.9999953945579808)\n"
     ]
    }
   ],
   "source": [
    "print(stats.ttest_ind(left_footed_values, right_footed_values,equal_var=False, alternative='less'))"
   ]
  },
  {
   "cell_type": "code",
   "execution_count": null,
   "id": "7bb7eabe",
   "metadata": {},
   "outputs": [],
   "source": [
    "#결론 왼발선수들이 능력치가 작다는 귀무가설을 기각할 수 없다 - 왼발 선수 능력치가 작ㄷ"
   ]
  }
 ],
 "metadata": {
  "kernelspec": {
   "display_name": "Python 3 (ipykernel)",
   "language": "python",
   "name": "python3"
  },
  "language_info": {
   "codemirror_mode": {
    "name": "ipython",
    "version": 3
   },
   "file_extension": ".py",
   "mimetype": "text/x-python",
   "name": "python",
   "nbconvert_exporter": "python",
   "pygments_lexer": "ipython3",
   "version": "3.9.13"
  }
 },
 "nbformat": 4,
 "nbformat_minor": 5
}
