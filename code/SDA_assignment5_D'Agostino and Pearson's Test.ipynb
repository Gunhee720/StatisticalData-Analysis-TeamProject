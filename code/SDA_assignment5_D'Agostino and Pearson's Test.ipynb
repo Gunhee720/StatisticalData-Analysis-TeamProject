{
 "cells": [
  {
   "cell_type": "code",
   "execution_count": 76,
   "id": "93963a11",
   "metadata": {},
   "outputs": [],
   "source": [
    "# 24년 12월 2일\n",
    "# commit 한 사람: 오주영\n",
    "# 디아고스티노-피어슨 검정 추가, 코드 수정\n",
    "# 정규성 판단 추가"
   ]
  },
  {
   "cell_type": "code",
   "execution_count": 77,
   "id": "fd54577d",
   "metadata": {
    "ExecuteTime": {
     "end_time": "2024-11-30T10:15:56.366202Z",
     "start_time": "2024-11-30T10:15:56.307286Z"
    }
   },
   "outputs": [],
   "source": [
    "import pandas as pd\n",
    "\n",
    "df_train = pd.read_csv(\"FIFA_train.csv\")\n",
    "df_test = pd.read_csv(\"FIFA_test.csv\")\n",
    "df = pd.concat([df_train, df_test], ignore_index=True)\n",
    "\n",
    "left_foot = df[df[\"prefer_foot\"] == \"left\"]\n",
    "right_foot = df[df[\"prefer_foot\"] == \"right\"]\n",
    "\n",
    "\n",
    "# 데이터 합치기\n",
    "df = pd.concat([df_train, df_test], ignore_index=True)"
   ]
  },
  {
   "cell_type": "code",
   "execution_count": 78,
   "id": "de68d859",
   "metadata": {
    "ExecuteTime": {
     "end_time": "2024-11-30T10:15:59.635502Z",
     "start_time": "2024-11-30T10:15:59.618095Z"
    }
   },
   "outputs": [
    {
     "data": {
      "text/html": [
       "<div>\n",
       "<style scoped>\n",
       "    .dataframe tbody tr th:only-of-type {\n",
       "        vertical-align: middle;\n",
       "    }\n",
       "\n",
       "    .dataframe tbody tr th {\n",
       "        vertical-align: top;\n",
       "    }\n",
       "\n",
       "    .dataframe thead th {\n",
       "        text-align: right;\n",
       "    }\n",
       "</style>\n",
       "<table border=\"1\" class=\"dataframe\">\n",
       "  <thead>\n",
       "    <tr style=\"text-align: right;\">\n",
       "      <th></th>\n",
       "      <th>id</th>\n",
       "      <th>name</th>\n",
       "      <th>age</th>\n",
       "      <th>continent</th>\n",
       "      <th>contract_until</th>\n",
       "      <th>position</th>\n",
       "      <th>prefer_foot</th>\n",
       "      <th>reputation</th>\n",
       "      <th>stat_overall</th>\n",
       "      <th>stat_potential</th>\n",
       "      <th>stat_skill_moves</th>\n",
       "      <th>value</th>\n",
       "    </tr>\n",
       "  </thead>\n",
       "  <tbody>\n",
       "    <tr>\n",
       "      <th>0</th>\n",
       "      <td>0</td>\n",
       "      <td>L. Messi</td>\n",
       "      <td>31</td>\n",
       "      <td>south america</td>\n",
       "      <td>2021</td>\n",
       "      <td>ST</td>\n",
       "      <td>left</td>\n",
       "      <td>5.0</td>\n",
       "      <td>94</td>\n",
       "      <td>94</td>\n",
       "      <td>4.0</td>\n",
       "      <td>110500000.0</td>\n",
       "    </tr>\n",
       "    <tr>\n",
       "      <th>1</th>\n",
       "      <td>3</td>\n",
       "      <td>De Gea</td>\n",
       "      <td>27</td>\n",
       "      <td>europe</td>\n",
       "      <td>2020</td>\n",
       "      <td>GK</td>\n",
       "      <td>right</td>\n",
       "      <td>4.0</td>\n",
       "      <td>91</td>\n",
       "      <td>93</td>\n",
       "      <td>1.0</td>\n",
       "      <td>72000000.0</td>\n",
       "    </tr>\n",
       "    <tr>\n",
       "      <th>2</th>\n",
       "      <td>7</td>\n",
       "      <td>L. Suárez</td>\n",
       "      <td>31</td>\n",
       "      <td>south america</td>\n",
       "      <td>2021</td>\n",
       "      <td>ST</td>\n",
       "      <td>right</td>\n",
       "      <td>5.0</td>\n",
       "      <td>91</td>\n",
       "      <td>91</td>\n",
       "      <td>3.0</td>\n",
       "      <td>80000000.0</td>\n",
       "    </tr>\n",
       "    <tr>\n",
       "      <th>3</th>\n",
       "      <td>8</td>\n",
       "      <td>Sergio Ramos</td>\n",
       "      <td>32</td>\n",
       "      <td>europe</td>\n",
       "      <td>2020</td>\n",
       "      <td>DF</td>\n",
       "      <td>right</td>\n",
       "      <td>4.0</td>\n",
       "      <td>91</td>\n",
       "      <td>91</td>\n",
       "      <td>3.0</td>\n",
       "      <td>51000000.0</td>\n",
       "    </tr>\n",
       "    <tr>\n",
       "      <th>4</th>\n",
       "      <td>9</td>\n",
       "      <td>J. Oblak</td>\n",
       "      <td>25</td>\n",
       "      <td>europe</td>\n",
       "      <td>2021</td>\n",
       "      <td>GK</td>\n",
       "      <td>right</td>\n",
       "      <td>3.0</td>\n",
       "      <td>90</td>\n",
       "      <td>93</td>\n",
       "      <td>1.0</td>\n",
       "      <td>68000000.0</td>\n",
       "    </tr>\n",
       "  </tbody>\n",
       "</table>\n",
       "</div>"
      ],
      "text/plain": [
       "   id          name  age      continent contract_until position prefer_foot  \\\n",
       "0   0      L. Messi   31  south america           2021       ST        left   \n",
       "1   3        De Gea   27         europe           2020       GK       right   \n",
       "2   7     L. Suárez   31  south america           2021       ST       right   \n",
       "3   8  Sergio Ramos   32         europe           2020       DF       right   \n",
       "4   9      J. Oblak   25         europe           2021       GK       right   \n",
       "\n",
       "   reputation  stat_overall  stat_potential  stat_skill_moves        value  \n",
       "0         5.0            94              94               4.0  110500000.0  \n",
       "1         4.0            91              93               1.0   72000000.0  \n",
       "2         5.0            91              91               3.0   80000000.0  \n",
       "3         4.0            91              91               3.0   51000000.0  \n",
       "4         3.0            90              93               1.0   68000000.0  "
      ]
     },
     "execution_count": 78,
     "metadata": {},
     "output_type": "execute_result"
    }
   ],
   "source": [
    "df.head()"
   ]
  },
  {
   "cell_type": "code",
   "execution_count": 79,
   "id": "fbbe69bf",
   "metadata": {
    "ExecuteTime": {
     "end_time": "2024-11-30T10:16:01.128864Z",
     "start_time": "2024-11-30T10:16:01.111965Z"
    }
   },
   "outputs": [],
   "source": [
    "#plt그리기 위해 나눠 봤습니다\n",
    "left_foot = df[df[\"prefer_foot\"] == \"left\"]\n",
    "right_foot = df[df[\"prefer_foot\"] == \"right\"]"
   ]
  },
  {
   "cell_type": "code",
   "execution_count": 80,
   "id": "6a952162",
   "metadata": {
    "ExecuteTime": {
     "end_time": "2024-11-30T10:16:02.044891Z",
     "start_time": "2024-11-30T10:16:02.025305Z"
    }
   },
   "outputs": [
    {
     "name": "stdout",
     "output_type": "stream",
     "text": [
      "12760\n",
      "3008\n",
      "9752\n"
     ]
    }
   ],
   "source": [
    "#전체 행 갯수는\n",
    "total_rows = print(len(df)) # 전체\n",
    "left_foot_rows = print(len(left_foot))  #왼발 그룹!\n",
    "right_foot_rows = print(len(right_foot))  #오른발 그룹!"
   ]
  },
  {
   "cell_type": "code",
   "execution_count": 81,
   "id": "8322f430",
   "metadata": {
    "ExecuteTime": {
     "end_time": "2024-11-30T12:32:36.610457Z",
     "start_time": "2024-11-30T12:32:36.578615Z"
    }
   },
   "outputs": [],
   "source": [
    "left_footed_values = left_foot['stat_overall']\n",
    "right_footed_values = right_foot['stat_overall']"
   ]
  },
  {
   "cell_type": "code",
   "execution_count": 82,
   "id": "225e2ce0",
   "metadata": {},
   "outputs": [
    {
     "name": "stdout",
     "output_type": "stream",
     "text": [
      "D'Agostino and Pearson's Test statistic: 5.2076\n",
      "P-value: 0.0740\n",
      "정규성을 기각할 수 없습니다. 데이터가 정규분포를 따릅니다.\n"
     ]
    }
   ],
   "source": [
    "from scipy.stats import normaltest\n",
    "\n",
    "# 예제 데이터 \n",
    "data1 = right_footed_values\n",
    "\n",
    "# D'Agostino and Pearson's Test\n",
    "stat1, p_value1 = normaltest(data1)\n",
    "\n",
    "# 결과 출력\n",
    "print(f\"D'Agostino and Pearson's Test statistic: {stat1:.4f}\")\n",
    "print(f\"P-value: {p_value1:.4f}\")\n",
    "\n",
    "if p_value1 > 0.05:\n",
    "    print(\"정규성을 기각할 수 없습니다. 데이터가 정규분포를 따릅니다.\")\n",
    "else:\n",
    "    print(\"정규성을 기각합니다. 데이터가 정규분포를 따르지 않습니다.\")\n"
   ]
  },
  {
   "cell_type": "code",
   "execution_count": 83,
   "id": "bb4b6681",
   "metadata": {},
   "outputs": [
    {
     "name": "stdout",
     "output_type": "stream",
     "text": [
      "D'Agostino and Pearson's Test statistic: 19.3099\n",
      "P-value: 0.0001\n",
      "정규성을 기각합니다. 데이터가 정규분포를 따르지 않습니다.\n"
     ]
    }
   ],
   "source": [
    "from scipy.stats import normaltest\n",
    "\n",
    "# 예제 데이터 \n",
    "data2 = left_footed_values\n",
    "\n",
    "# D'Agostino and Pearson's Test\n",
    "stat2, p_value2 = normaltest(data2)\n",
    "\n",
    "# 결과 출력\n",
    "print(f\"D'Agostino and Pearson's Test statistic: {stat2:.4f}\")\n",
    "print(f\"P-value: {p_value2:.4f}\")\n",
    "\n",
    "if p_value2 > 0.05:\n",
    "    print(\"정규성을 기각할 수 없습니다. 데이터가 정규분포를 따릅니다.\")\n",
    "else:\n",
    "    print(\"정규성을 기각합니다. 데이터가 정규분포를 따르지 않습니다.\")\n"
   ]
  },
  {
   "cell_type": "markdown",
   "id": "ac997a82",
   "metadata": {},
   "source": [
    "정규성 판단 종합하기:\n",
    "**시각적 검토(Q-Q 플롯, 히스토그램)**와 다수의 검정 결과를 종합적으로 고려합니다.\n",
    "정규성 검정에서의 상충되는 결과는 주로 샘플 크기와 검정의 민감성 차이로 인해 발생할 수 있습니다.\n",
    "\n",
    "결론적으로, 정규성 검정 결과가 상충될 때는:\n",
    "데이터가 시각적(히스토그램, Q-Q플롯)으로 정규분포를 따르는 것으로 보인다면, 실제로 정규분포에 가깝다고 판단할 수 있습니다.\n",
    "Anderson-Darling Test나 Shapiro-Wilk Test에서 기각된다 하더라도, 검정이 민감한 경우일 수 있기 때문에 이를 지나치게 신뢰하지 않고 다수의 결과를 종합적으로 판단하는 것이 좋습니다.\n",
    "D'Agostino and Pearson's Test에서 정규성을 따른다고 나왔다면, 첨도와 왜도가 정규분포에 맞는다는 것을 의미하므로 데이터가 정규분포에 가까운 것으로 해석할 수 있습니다."
   ]
  },
  {
   "cell_type": "markdown",
   "id": "ef6a0bdb",
   "metadata": {},
   "source": [
    "Jarque-Bera Test와 D'Agostino and Pearson's Test의 차이점\n",
    "\n",
    "Jarque-Bera Test는 왜도와 첨도에 민감하게 반응하는 반면, D'Agostino and Pearson's Test는 왜도와 첨도의 변환된 값에 기반해 더 강력한 정규성 검정을 제공합니다.\n",
    "D'Agostino and Pearson's Test는 샘플 크기가 큰 데이터에서 더 유효하며, Jarque-Bera Test는 상대적으로 작은 샘플에서 더 민감할 수 있습니다."
   ]
  },
  {
   "cell_type": "markdown",
   "id": "8b76f637",
   "metadata": {},
   "source": [
    "이 부분은 그냥 참고용으로 봐주세요.\n",
    "1. QQ 플롯과 히스토그램\n",
    "시각적 검토는 주관적인 해석을 포함할 수 있지만, 직선에 가까운 Q-Q 플롯과 정규분포 형태의 히스토그램은 정규성을 시각적으로 잘 따르는 경우를 보여줍니다.\n",
    "시각적으로 정규성을 따른다고 판단되는 경우, 다른 검정 방법에서도 그와 일치하는 결과가 나오면 신뢰도가 높아집니다.\n",
    "2. D'Agostino and Pearson's Test\n",
    "D'Agostino and Pearson's Test는 왜도와 첨도에 기반하여 정규성 여부를 검정합니다.\n",
    "이 검정은 특히 샘플 크기가 클 때 유효하며, 정규성을 따르는 결과를 보였다면, 해당 결과는 유효할 수 있습니다.\n",
    "3. Anderson-Darling Test\n",
    "Anderson-Darling Test는 매우 강력한 정규성 검정 방법으로, 샘플 크기에 관계없이 잘 작동합니다. 이 검정에서 정규성을 기각하는 결과가 나왔다면, 이는 정규성에 대한 반박으로 해석할 수 있습니다.\n",
    "4. Shapiro-Wilk Test\n",
    "Shapiro-Wilk Test는 작은 샘플에서 효과적인 방법으로 알려져 있으며, 샘플 크기가 크다면 정규성을 기각하는 경향이 있습니다. 그러나 큰 샘플에서는 정규성 기각이 매우 민감할 수 있기 때문에 결과에 유의해야 합니다.\n",
    "5. Jarque-Bera Test\n",
    "Jarque-Bera Test는 왜도와 첨도를 기반으로 정규성 검정을 수행합니다. 이 검정에서 정규성을 기각한다면, 데이터의 왜도나 첨도가 정규분포와 차이를 보인다고 해석할 수 있습니다.\n"
   ]
  },
  {
   "cell_type": "code",
   "execution_count": 84,
   "id": "72adff8e",
   "metadata": {},
   "outputs": [],
   "source": [
    "# import numpy as np\n",
    "# import matplotlib.pyplot as plt\n",
    "# import scipy.stats as stats\n",
    "\n",
    "# # 예제 데이터 생성\n",
    "# data = np.append(data1, [10, -10])   # 이상치 추가\n",
    "\n",
    "# # 히스토그램과 Q-Q Plot\n",
    "# plt.figure(figsize=(12, 6))\n",
    "\n",
    "# # 히스토그램\n",
    "# plt.subplot(1, 2, 1)\n",
    "# plt.hist(data1, bins=20, alpha=0.7, color='blue', edgecolor='black')\n",
    "# plt.title(\"Histogram\")\n",
    "\n",
    "# # Q-Q Plot\n",
    "# plt.subplot(1, 2, 2)\n",
    "# stats.probplot(data1, dist=\"norm\", plot=plt)\n",
    "# plt.title(\"Q-Q Plot\")\n",
    "\n",
    "# plt.tight_layout()\n",
    "# plt.show()\n"
   ]
  },
  {
   "cell_type": "code",
   "execution_count": 85,
   "id": "552c2af9",
   "metadata": {},
   "outputs": [],
   "source": [
    "# import numpy as np\n",
    "# import matplotlib.pyplot as plt\n",
    "# import scipy.stats as stats\n",
    "\n",
    "# # 예제 데이터 생성 (정규분포 + 이상치 추가)  # 정규분포 데이터\n",
    "# data4 = np.append(data1, [10, -10])   # 이상치 추가\n",
    "\n",
    "# # 1. IQR 계산\n",
    "# q1 = np.percentile(data4, 25)  # 1사분위\n",
    "# q3 = np.percentile(data4, 75)  # 3사분위\n",
    "# iqr = q3 - q1                 # IQR\n",
    "\n",
    "# # 이상치 기준 계산\n",
    "# lower_bound = q1 - 1.5 * iqr\n",
    "# upper_bound = q3 + 1.5 * iqr\n",
    "\n",
    "# # 이상치 제거\n",
    "# filtered_data = data4[(data4 >= lower_bound) & (data4 <= upper_bound)]\n",
    "\n",
    "# print(f\"IQR 범위: [{lower_bound:.2f}, {upper_bound:.2f}]\")\n",
    "# print(f\"제거 전 데이터 개수: {len(data4)}, 제거 후 데이터 개수: {len(filtered_data)}\")\n"
   ]
  },
  {
   "cell_type": "markdown",
   "id": "201d85e5",
   "metadata": {},
   "source": []
  },
  {
   "cell_type": "code",
   "execution_count": 86,
   "id": "7c3120ce",
   "metadata": {},
   "outputs": [
    {
     "data": {
      "image/png": "[encoded data removed]",
      "text/plain": [
       "<Figure size 1200x600 with 1 Axes>"
      ]
     },
     "metadata": {},
     "output_type": "display_data"
    },
    {
     "data": {
      "image/png": "[encoded data removed]",
      "text/plain": [
       "<Figure size 640x480 with 1 Axes>"
      ]
     },
     "metadata": {},
     "output_type": "display_data"
    },
    {
     "name": "stdout",
     "output_type": "stream",
     "text": [
      "IQR 범위: [60.30, 74.70]\n",
      "제거 전 데이터 개수: 9752, 제거 후 데이터 개수: 6758\n"
     ]
    }
   ],
   "source": [
    "import numpy as np\n",
    "import matplotlib.pyplot as plt\n",
    "\n",
    "# 예제 데이터 생성 (정규분포 + 이상치 추가)\n",
    "data = data1\n",
    "# 1. IQR 계산\n",
    "q1 = np.percentile(data, 25)  # 1사분위\n",
    "q3 = np.percentile(data, 75)  # 3사분위\n",
    "iqr = q3 - q1                 # IQR\n",
    "\n",
    "# 이상치 기준 계산\n",
    "lower_bound = q1 - 0.3 * iqr\n",
    "upper_bound = q3 + 0.3 * iqr\n",
    "\n",
    "# 이상치 제거\n",
    "filtered_data = data[(data1 >= lower_bound) & (data <= upper_bound)]\n",
    "\n",
    "# 2. Q-Q Plot: IQR 필터링 후 데이터의 정규성 확인\n",
    "plt.figure(figsize=(12, 6))\n",
    "\n",
    "# Q-Q Plot\n",
    "plt.subplot(1, 2, 1)\n",
    "stats.probplot(filtered_data, dist=\"norm\", plot=plt)\n",
    "plt.title(\"Q-Q Plot\")\n",
    "plt.show()\n",
    "\n",
    "# 히스토그램\n",
    "plt.subplot(1, 2, 2)\n",
    "plt.hist(filtered_data, bins=20, alpha=0.7, color='green', edgecolor='black')\n",
    "plt.title(\"Histogram (After IQR Filtering)\")\n",
    "\n",
    "plt.tight_layout()\n",
    "plt.show()\n",
    "\n",
    "# IQR 범위 출력\n",
    "print(f\"IQR 범위: [{lower_bound:.2f}, {upper_bound:.2f}]\")\n",
    "print(f\"제거 전 데이터 개수: {len(data)}, 제거 후 데이터 개수: {len(filtered_data)}\")\n"
   ]
  },
  {
   "cell_type": "code",
   "execution_count": 87,
   "id": "fe468ce8",
   "metadata": {},
   "outputs": [
    {
     "data": {
      "image/png": "[encoded data removed]",
      "text/plain": [
       "<Figure size 1200x600 with 1 Axes>"
      ]
     },
     "metadata": {},
     "output_type": "display_data"
    },
    {
     "data": {
      "image/png": "[encoded data removed]",
      "text/plain": [
       "<Figure size 640x480 with 1 Axes>"
      ]
     },
     "metadata": {},
     "output_type": "display_data"
    },
    {
     "name": "stdout",
     "output_type": "stream",
     "text": [
      "IQR 범위: [60.30, 74.70]\n",
      "제거 전 데이터 개수: 3008, 제거 후 데이터 개수: 2197\n"
     ]
    }
   ],
   "source": [
    "import numpy as np\n",
    "import matplotlib.pyplot as plt\n",
    "import scipy.stats as stats\n",
    "\n",
    "# 예제 데이터 생성 (정규분포 + 이상치 추가)\n",
    "dataset = data2\n",
    "\n",
    "# 1. IQR 계산\n",
    "first_quartile = np.percentile(dataset, 25)  # 1사분위수\n",
    "third_quartile = np.percentile(dataset, 75)  # 3사분위수\n",
    "interquartile_range = third_quartile - first_quartile  # IQR\n",
    "\n",
    "# 이상치 기준 계산\n",
    "lower_threshold = first_quartile - 0.3 * interquartile_range\n",
    "upper_threshold = third_quartile + 0.3 * interquartile_range\n",
    "\n",
    "# 이상치 제거\n",
    "cleaned_dataset = dataset[(dataset >= lower_threshold) & (dataset <= upper_threshold)]\n",
    "\n",
    "# 2. Q-Q Plot: IQR 필터링 후 데이터의 정규성 확인\n",
    "plt.figure(figsize=(12, 6))\n",
    "\n",
    "# Q-Q Plot\n",
    "plt.subplot(1, 2, 1)\n",
    "stats.probplot(cleaned_dataset, dist=\"norm\", plot=plt)\n",
    "plt.title(\"Q-Q Plot\")\n",
    "plt.show()\n",
    "\n",
    "# 히스토그램\n",
    "plt.subplot(1, 2, 2)\n",
    "plt.hist(cleaned_dataset, bins=20, alpha=0.7, color='green', edgecolor='black')\n",
    "plt.title(\"Histogram (After IQR Filtering)\")\n",
    "\n",
    "plt.tight_layout()\n",
    "plt.show()\n",
    "\n",
    "# IQR 범위 출력\n",
    "print(f\"IQR 범위: [{lower_threshold:.2f}, {upper_threshold:.2f}]\")\n",
    "print(f\"제거 전 데이터 개수: {len(dataset)}, 제거 후 데이터 개수: {len(cleaned_dataset)}\")\n"
   ]
  },
  {
   "cell_type": "markdown",
   "id": "7d2d154a",
   "metadata": {},
   "source": [
    "샤피로 검정(Shapiro-Wilk Test), KS 검정(Kolmogorov-Smirnov Test), 그리고 앤더슨-달링 검정(Anderson-Darling Test) 모두 데이터가 정규분포를 따르는지 확인하는 통계적 검정 방법입니다. 이 세 가지 검정에서 모두 정규성을 띄지 않는다고 나왔다면, 데이터는 정규분포를 따르지 않는다고 결론을 내릴 수 있습니다.\n",
    "\n",
    "Q-Q Plot이 정규성을 띄지 않는 모양을 보이고, 위 세 가지 정규성 검정 결과 모두 정규성을 거부했다면, 해당 데이터는 정규분포를 따르지 않는다고 확신할 수 있습니다.\n",
    "\n",
    "이 경우 정규성 가정을 요구하는 통계적 분석(예: 선형 회귀 등)을 진행하기 전에 비모수적 방법을 사용하는 것이 좋습니다. 예를 들어, 회귀 분석에서는 선형 회귀 대신 로지스틱 회귀나 결정 트리 회귀와 같은 비선형 모델을 고려할 수 있습니다."
   ]
  }
 ],
 "metadata": {
  "kernelspec": {
   "display_name": "sda2024",
   "language": "python",
   "name": "python3"
  },
  "language_info": {
   "codemirror_mode": {
    "name": "ipython",
    "version": 3
   },
   "file_extension": ".py",
   "mimetype": "text/x-python",
   "name": "python",
   "nbconvert_exporter": "python",
   "pygments_lexer": "ipython3",
   "version": "3.8.18"
  }
 },
 "nbformat": 4,
 "nbformat_minor": 5
}
