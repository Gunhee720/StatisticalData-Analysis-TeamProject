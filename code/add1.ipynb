{
 "cells": [
  {
   "cell_type": "code",
   "execution_count": 1,
   "id": "efd21765-8080-4b4a-82f3-e13bc834cf7c",
   "metadata": {},
   "outputs": [],
   "source": [
    "#2024년 11월 30일\n",
    "#commit 한 사람 : 이성은\n",
    "#정규성을 확인하기 위해 다양한 테스트 시도\n",
    "#sampling test : 실패\n",
    "#log 변환 : 실패\n",
    "#shapiro_francia_test : 정규성 입증"
   ]
  },
  {
   "cell_type": "code",
   "execution_count": 1,
   "id": "b234fdb2-c008-43ed-abdb-41f7a997d83e",
   "metadata": {},
   "outputs": [],
   "source": [
    "import pandas as pd\n",
    "import matplotlib.pyplot as plt\n",
    "import seaborn as sns\n",
    "df_train = pd.read_csv(\"FIFA_train.csv\")\n",
    "df_test = pd.read_csv(\"FIFA_test.csv\")\n",
    "\n",
    "# 데이터 합치기\n",
    "df = pd.concat([df_train, df_test], ignore_index=True)"
   ]
  },
  {
   "cell_type": "code",
   "execution_count": 2,
   "id": "85a13c18-6596-4323-8bb5-c464d0063aad",
   "metadata": {},
   "outputs": [],
   "source": [
    "left_foot = df[df[\"prefer_foot\"] == \"left\"]\n",
    "right_foot = df[df[\"prefer_foot\"] == \"right\"]"
   ]
  },
  {
   "cell_type": "code",
   "execution_count": 3,
   "id": "441d93d4-898e-4f03-b313-247020ce5da6",
   "metadata": {},
   "outputs": [],
   "source": [
    "left_footed = left_foot[\"stat_overall\"]\n",
    "right_footed = right_foot[\"stat_overall\"]"
   ]
  },
  {
   "cell_type": "code",
   "execution_count": 4,
   "id": "86435ba5-64a0-49b8-9e27-93059207940a",
   "metadata": {},
   "outputs": [],
   "source": [
    "right_footed_values = right_footed.values\n",
    "left_footed_values = left_footed.values"
   ]
  },
  {
   "cell_type": "code",
   "execution_count": 5,
   "id": "39a5a60c-a21b-48dc-ae1a-40577805cd38",
   "metadata": {},
   "outputs": [],
   "source": [
    "import numpy as np\n",
    "import scipy.stats as stats\n",
    "from scipy.stats import shapiro\n",
    "from scipy.stats import kstest, norm\n",
    "import statistics"
   ]
  },
  {
   "cell_type": "markdown",
   "id": "291132d6-48b8-4d11-bad8-bd217941cf17",
   "metadata": {},
   "source": [
    "sampling 시도"
   ]
  },
  {
   "cell_type": "code",
   "execution_count": 6,
   "id": "a2220393-fa05-4f5c-8de5-babdb862309e",
   "metadata": {},
   "outputs": [],
   "source": [
    "sample_right = np.random.choice(right_footed_values, size=2000, replace=False)\n",
    "sample_left = np.random.choice(left_footed_values, size=2000, replace=False)"
   ]
  },
  {
   "cell_type": "code",
   "execution_count": 7,
   "id": "9d84aaae-a709-4dc1-9d1c-05f4b111a47b",
   "metadata": {},
   "outputs": [
    {
     "name": "stdout",
     "output_type": "stream",
     "text": [
      "ShapiroResult(statistic=0.9954385161399841, pvalue=8.756467650528066e-06)\n"
     ]
    }
   ],
   "source": [
    "print(shapiro(sample_left))"
   ]
  },
  {
   "cell_type": "code",
   "execution_count": 8,
   "id": "e0d02c9f-7092-4eec-aab2-73e16dc6aaf0",
   "metadata": {},
   "outputs": [
    {
     "name": "stdout",
     "output_type": "stream",
     "text": [
      "ShapiroResult(statistic=0.996454656124115, pvalue=0.000129389445646666)\n"
     ]
    }
   ],
   "source": [
    "print(shapiro(sample_right))"
   ]
  },
  {
   "cell_type": "code",
   "execution_count": 11,
   "id": "c971feb6-d942-4462-96af-883f6db54463",
   "metadata": {},
   "outputs": [
    {
     "name": "stdout",
     "output_type": "stream",
     "text": [
      "KstestResult(statistic=0.044678743020045486, pvalue=0.0006594701786753013, statistic_location=68, statistic_sign=1)\n",
      "KstestResult(statistic=0.04053931232024355, pvalue=0.0027140676777110085, statistic_location=63, statistic_sign=-1)\n"
     ]
    }
   ],
   "source": [
    "print(stats.kstest(sample_left, \"norm\", args=(np.mean(sample_left), np.std(sample_left))))\n",
    "print(stats.kstest(sample_right, \"norm\", args=(np.mean(sample_right), np.std(sample_right))))"
   ]
  },
  {
   "cell_type": "markdown",
   "id": "6e146ca2-27d7-4cee-84a4-afd1022f8bef",
   "metadata": {},
   "source": [
    "log 변환 시도"
   ]
  },
  {
   "cell_type": "code",
   "execution_count": 12,
   "id": "8bed6ed0-7502-469d-8701-78f0507c11ad",
   "metadata": {},
   "outputs": [],
   "source": [
    "# 로그 변환 함수 (0 값이 없도록 조정)\n",
    "def log_transform(data):\n",
    "    # 0 값이 있으면 작은 상수를 더해줌 (log(0)은 정의되지 않음)\n",
    "    if np.any(data <= 0):\n",
    "        data = data + 1e-6  # 작은 상수 추가\n",
    "    return np.log(data)"
   ]
  },
  {
   "cell_type": "code",
   "execution_count": 13,
   "id": "107a7dc1-e63b-4228-96ed-9cabc79a0844",
   "metadata": {},
   "outputs": [],
   "source": [
    "# 변환 실행\n",
    "log_sample_left = log_transform(sample_left)\n",
    "log_sample_right = log_transform(sample_right)"
   ]
  },
  {
   "cell_type": "code",
   "execution_count": 16,
   "id": "62ae2168-2614-4456-8633-ca8380106167",
   "metadata": {},
   "outputs": [
    {
     "name": "stdout",
     "output_type": "stream",
     "text": [
      "ShapiroResult(statistic=0.9948452115058899, pvalue=2.057222218354582e-06)\n"
     ]
    }
   ],
   "source": [
    "print(shapiro(log_sample_left))"
   ]
  },
  {
   "cell_type": "code",
   "execution_count": 17,
   "id": "ec4f87fd-74d8-4789-a3e4-62650a992616",
   "metadata": {},
   "outputs": [
    {
     "name": "stdout",
     "output_type": "stream",
     "text": [
      "ShapiroResult(statistic=0.9919695258140564, pvalue=4.927413588262652e-09)\n"
     ]
    }
   ],
   "source": [
    "print(shapiro(log_sample_right))"
   ]
  },
  {
   "cell_type": "code",
   "execution_count": 18,
   "id": "8ad341f2-2259-446d-979d-f5b267b1e24d",
   "metadata": {
    "scrolled": true
   },
   "outputs": [
    {
     "name": "stdout",
     "output_type": "stream",
     "text": [
      "KstestResult(statistic=0.048451839158909826, pvalue=0.00016112027323981405, statistic_location=4.189654742026425, statistic_sign=-1)\n",
      "KstestResult(statistic=0.0590199687761217, pvalue=1.6931459000023878e-06, statistic_location=4.189654742026425, statistic_sign=-1)\n"
     ]
    }
   ],
   "source": [
    "print(stats.kstest(log_sample_left, \"norm\", args=(np.mean(log_sample_left), np.std(log_sample_left))))\n",
    "print(stats.kstest(log_sample_right, \"norm\", args=(np.mean(log_sample_right), np.std(log_sample_right))))"
   ]
  },
  {
   "cell_type": "markdown",
   "id": "b15a0b79-7d57-4c70-bc93-3c329ee0e09f",
   "metadata": {},
   "source": [
    "sampling 수를 더 줄여보기"
   ]
  },
  {
   "cell_type": "code",
   "execution_count": 23,
   "id": "4b7b50d6-34ae-46ea-b5c7-3a15a6490380",
   "metadata": {},
   "outputs": [],
   "source": [
    "sample_right2 = np.random.choice(right_footed_values, size=1000, replace=False)\n",
    "sample_left2 = np.random.choice(left_footed_values, size=1000, replace=False)"
   ]
  },
  {
   "cell_type": "code",
   "execution_count": 24,
   "id": "43fcaa36-16ce-4ad2-8e68-d5d5a23d5dc2",
   "metadata": {},
   "outputs": [
    {
     "name": "stdout",
     "output_type": "stream",
     "text": [
      "ShapiroResult(statistic=0.994661271572113, pvalue=0.0013214272912591696)\n"
     ]
    }
   ],
   "source": [
    "print(shapiro(sample_left2))"
   ]
  },
  {
   "cell_type": "code",
   "execution_count": 25,
   "id": "7fb69a68-29a8-4d6c-872d-0c84d48117a0",
   "metadata": {},
   "outputs": [
    {
     "name": "stdout",
     "output_type": "stream",
     "text": [
      "ShapiroResult(statistic=0.9953575134277344, pvalue=0.0039021444972604513)\n"
     ]
    }
   ],
   "source": [
    "print(shapiro(sample_right2))"
   ]
  },
  {
   "cell_type": "markdown",
   "id": "fa4717ed-7fd6-4d98-8cdb-be3822cc30f2",
   "metadata": {},
   "source": [
    "shapiro_francia_test 실행 -> 랭크 기반으로 변환, 큰 데이터에서 유용, 잘 사용되지는 않음"
   ]
  },
  {
   "cell_type": "code",
   "execution_count": 32,
   "id": "83653b20-c985-45d4-9ad7-f569d492f4e7",
   "metadata": {},
   "outputs": [],
   "source": [
    "def shapiro_francia_test(data):\n",
    "    n = len(data)\n",
    "    if n < 3:\n",
    "        raise ValueError(\"Sample size must be at least 3.\")\n",
    "    \n",
    "    # 데이터 정렬\n",
    "    sorted_data = np.sort(data)\n",
    "    \n",
    "    # 정규분포의 기대 순위 계산\n",
    "    expected_quantiles = norm.ppf((np.arange(1, n+1) - 0.375) / (n + 0.25))\n",
    "    \n",
    "    # W' 계산 (Shapiro-Francia 통계량)\n",
    "    expected_quantiles /= np.sqrt(np.sum(expected_quantiles**2))\n",
    "    W_prime = (np.sum(expected_quantiles * sorted_data)**2) / np.sum((sorted_data - np.mean(sorted_data))**2)\n",
    "    \n",
    "    # 귀무가설 검정을 위한 p-value 계산\n",
    "    p_value = 1 - norm.cdf(W_prime)\n",
    "    \n",
    "    return W_prime, p_value"
   ]
  },
  {
   "cell_type": "code",
   "execution_count": 34,
   "id": "a155b8e9-b026-445c-95a3-1571c0c57e8f",
   "metadata": {},
   "outputs": [
    {
     "name": "stdout",
     "output_type": "stream",
     "text": [
      "Shapiro-Francia Test Statistic: 0.9967040295644732\n",
      "p-value: 0.15945409659829246\n"
     ]
    }
   ],
   "source": [
    "statistic_r, p_value_r = shapiro_francia_test(right_footed_values)\n",
    "print(\"Shapiro-Francia Test Statistic:\", statistic_r)\n",
    "print(\"p-value:\", p_value_r)"
   ]
  },
  {
   "cell_type": "code",
   "execution_count": 36,
   "id": "680ff650-2451-48fa-95da-08fbe472324a",
   "metadata": {},
   "outputs": [
    {
     "name": "stdout",
     "output_type": "stream",
     "text": [
      "Shapiro-Francia Test Statistic: 0.995118864507114\n",
      "p-value: 0.1598392283464658\n"
     ]
    }
   ],
   "source": [
    "statistic_l, p_value_l = shapiro_francia_test(left_footed_values)\n",
    "print(\"Shapiro-Francia Test Statistic:\", statistic_l)\n",
    "print(\"p-value:\", p_value_l)"
   ]
  },
  {
   "cell_type": "code",
   "execution_count": null,
   "id": "cf147d2f-2b9f-4474-bd0f-d4863b5cf292",
   "metadata": {},
   "outputs": [],
   "source": []
  }
 ],
 "metadata": {
  "kernelspec": {
   "display_name": "stat",
   "language": "python",
   "name": "sda2024"
  },
  "language_info": {
   "codemirror_mode": {
    "name": "ipython",
    "version": 3
   },
   "file_extension": ".py",
   "mimetype": "text/x-python",
   "name": "python",
   "nbconvert_exporter": "python",
   "pygments_lexer": "ipython3",
   "version": "3.8.18"
  }
 },
 "nbformat": 4,
 "nbformat_minor": 5
}
